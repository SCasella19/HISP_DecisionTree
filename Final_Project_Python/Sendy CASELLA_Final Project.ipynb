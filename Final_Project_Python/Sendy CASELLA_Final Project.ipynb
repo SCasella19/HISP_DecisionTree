{
 "cells": [
  {
   "cell_type": "markdown",
   "metadata": {},
   "source": [
    "### Sendy CASELLA_Final Project - M2 IREN"
   ]
  },
  {
   "cell_type": "markdown",
   "metadata": {},
   "source": [
    "## 1. Preprocessing"
   ]
  },
  {
   "cell_type": "code",
   "execution_count": 56,
   "metadata": {},
   "outputs": [
    {
     "name": "stdout",
     "output_type": "stream",
     "text": [
      "Missing values = 0\n"
     ]
    },
    {
     "data": {
      "text/html": [
       "<div>\n",
       "<style scoped>\n",
       "    .dataframe tbody tr th:only-of-type {\n",
       "        vertical-align: middle;\n",
       "    }\n",
       "\n",
       "    .dataframe tbody tr th {\n",
       "        vertical-align: top;\n",
       "    }\n",
       "\n",
       "    .dataframe thead th {\n",
       "        text-align: right;\n",
       "    }\n",
       "</style>\n",
       "<table border=\"1\" class=\"dataframe\">\n",
       "  <thead>\n",
       "    <tr style=\"text-align: right;\">\n",
       "      <th></th>\n",
       "      <th>locality_identifier</th>\n",
       "      <th>household_identifier</th>\n",
       "      <th>treatment_locality</th>\n",
       "      <th>promotion_locality</th>\n",
       "      <th>eligible</th>\n",
       "      <th>enrolled</th>\n",
       "      <th>enrolled_rp</th>\n",
       "      <th>poverty_index</th>\n",
       "      <th>round</th>\n",
       "      <th>health_expenditures</th>\n",
       "      <th>...</th>\n",
       "      <th>educ_hh</th>\n",
       "      <th>educ_sp</th>\n",
       "      <th>female_hh</th>\n",
       "      <th>indigenous</th>\n",
       "      <th>hhsize</th>\n",
       "      <th>dirtfloor</th>\n",
       "      <th>bathroom</th>\n",
       "      <th>land</th>\n",
       "      <th>hospital_distance</th>\n",
       "      <th>enrolled_num</th>\n",
       "    </tr>\n",
       "  </thead>\n",
       "  <tbody>\n",
       "    <tr>\n",
       "      <th>0</th>\n",
       "      <td>26</td>\n",
       "      <td>5</td>\n",
       "      <td>Treatment</td>\n",
       "      <td>Promotion</td>\n",
       "      <td>Eligible</td>\n",
       "      <td>Enrolled</td>\n",
       "      <td>1</td>\n",
       "      <td>55.950542</td>\n",
       "      <td>Before</td>\n",
       "      <td>15.185455</td>\n",
       "      <td>...</td>\n",
       "      <td>0.0</td>\n",
       "      <td>6.0</td>\n",
       "      <td>0</td>\n",
       "      <td>0</td>\n",
       "      <td>4</td>\n",
       "      <td>1</td>\n",
       "      <td>0</td>\n",
       "      <td>1</td>\n",
       "      <td>124.819966</td>\n",
       "      <td>1</td>\n",
       "    </tr>\n",
       "    <tr>\n",
       "      <th>1</th>\n",
       "      <td>26</td>\n",
       "      <td>5</td>\n",
       "      <td>Treatment</td>\n",
       "      <td>Promotion</td>\n",
       "      <td>Eligible</td>\n",
       "      <td>Enrolled</td>\n",
       "      <td>1</td>\n",
       "      <td>55.950542</td>\n",
       "      <td>After</td>\n",
       "      <td>19.580902</td>\n",
       "      <td>...</td>\n",
       "      <td>0.0</td>\n",
       "      <td>6.0</td>\n",
       "      <td>0</td>\n",
       "      <td>0</td>\n",
       "      <td>4</td>\n",
       "      <td>1</td>\n",
       "      <td>0</td>\n",
       "      <td>1</td>\n",
       "      <td>124.819966</td>\n",
       "      <td>1</td>\n",
       "    </tr>\n",
       "    <tr>\n",
       "      <th>2</th>\n",
       "      <td>26</td>\n",
       "      <td>11</td>\n",
       "      <td>Treatment</td>\n",
       "      <td>Promotion</td>\n",
       "      <td>Eligible</td>\n",
       "      <td>Enrolled</td>\n",
       "      <td>0</td>\n",
       "      <td>46.058731</td>\n",
       "      <td>Before</td>\n",
       "      <td>13.076257</td>\n",
       "      <td>...</td>\n",
       "      <td>4.0</td>\n",
       "      <td>0.0</td>\n",
       "      <td>0</td>\n",
       "      <td>0</td>\n",
       "      <td>6</td>\n",
       "      <td>1</td>\n",
       "      <td>0</td>\n",
       "      <td>2</td>\n",
       "      <td>124.819966</td>\n",
       "      <td>1</td>\n",
       "    </tr>\n",
       "    <tr>\n",
       "      <th>3</th>\n",
       "      <td>26</td>\n",
       "      <td>11</td>\n",
       "      <td>Treatment</td>\n",
       "      <td>Promotion</td>\n",
       "      <td>Eligible</td>\n",
       "      <td>Enrolled</td>\n",
       "      <td>0</td>\n",
       "      <td>46.058731</td>\n",
       "      <td>After</td>\n",
       "      <td>2.398854</td>\n",
       "      <td>...</td>\n",
       "      <td>4.0</td>\n",
       "      <td>0.0</td>\n",
       "      <td>0</td>\n",
       "      <td>0</td>\n",
       "      <td>6</td>\n",
       "      <td>1</td>\n",
       "      <td>0</td>\n",
       "      <td>2</td>\n",
       "      <td>124.819966</td>\n",
       "      <td>1</td>\n",
       "    </tr>\n",
       "    <tr>\n",
       "      <th>4</th>\n",
       "      <td>26</td>\n",
       "      <td>13</td>\n",
       "      <td>Treatment</td>\n",
       "      <td>Promotion</td>\n",
       "      <td>Eligible</td>\n",
       "      <td>Enrolled</td>\n",
       "      <td>0</td>\n",
       "      <td>54.095825</td>\n",
       "      <td>After</td>\n",
       "      <td>0.000000</td>\n",
       "      <td>...</td>\n",
       "      <td>0.0</td>\n",
       "      <td>0.0</td>\n",
       "      <td>0</td>\n",
       "      <td>0</td>\n",
       "      <td>6</td>\n",
       "      <td>1</td>\n",
       "      <td>0</td>\n",
       "      <td>4</td>\n",
       "      <td>124.819966</td>\n",
       "      <td>1</td>\n",
       "    </tr>\n",
       "    <tr>\n",
       "      <th>5</th>\n",
       "      <td>26</td>\n",
       "      <td>13</td>\n",
       "      <td>Treatment</td>\n",
       "      <td>Promotion</td>\n",
       "      <td>Eligible</td>\n",
       "      <td>Enrolled</td>\n",
       "      <td>0</td>\n",
       "      <td>54.095825</td>\n",
       "      <td>Before</td>\n",
       "      <td>15.286353</td>\n",
       "      <td>...</td>\n",
       "      <td>0.0</td>\n",
       "      <td>0.0</td>\n",
       "      <td>0</td>\n",
       "      <td>0</td>\n",
       "      <td>6</td>\n",
       "      <td>1</td>\n",
       "      <td>0</td>\n",
       "      <td>4</td>\n",
       "      <td>124.819966</td>\n",
       "      <td>1</td>\n",
       "    </tr>\n",
       "    <tr>\n",
       "      <th>6</th>\n",
       "      <td>26</td>\n",
       "      <td>16</td>\n",
       "      <td>Treatment</td>\n",
       "      <td>Promotion</td>\n",
       "      <td>Eligible</td>\n",
       "      <td>Enrolled</td>\n",
       "      <td>1</td>\n",
       "      <td>56.903400</td>\n",
       "      <td>After</td>\n",
       "      <td>20.026909</td>\n",
       "      <td>...</td>\n",
       "      <td>3.0</td>\n",
       "      <td>0.0</td>\n",
       "      <td>0</td>\n",
       "      <td>0</td>\n",
       "      <td>7</td>\n",
       "      <td>1</td>\n",
       "      <td>0</td>\n",
       "      <td>2</td>\n",
       "      <td>124.819966</td>\n",
       "      <td>1</td>\n",
       "    </tr>\n",
       "    <tr>\n",
       "      <th>7</th>\n",
       "      <td>26</td>\n",
       "      <td>16</td>\n",
       "      <td>Treatment</td>\n",
       "      <td>Promotion</td>\n",
       "      <td>Eligible</td>\n",
       "      <td>Enrolled</td>\n",
       "      <td>1</td>\n",
       "      <td>56.903400</td>\n",
       "      <td>Before</td>\n",
       "      <td>11.311761</td>\n",
       "      <td>...</td>\n",
       "      <td>3.0</td>\n",
       "      <td>0.0</td>\n",
       "      <td>0</td>\n",
       "      <td>0</td>\n",
       "      <td>7</td>\n",
       "      <td>1</td>\n",
       "      <td>0</td>\n",
       "      <td>2</td>\n",
       "      <td>124.819966</td>\n",
       "      <td>1</td>\n",
       "    </tr>\n",
       "    <tr>\n",
       "      <th>8</th>\n",
       "      <td>26</td>\n",
       "      <td>21</td>\n",
       "      <td>Treatment</td>\n",
       "      <td>Promotion</td>\n",
       "      <td>Eligible</td>\n",
       "      <td>Enrolled</td>\n",
       "      <td>1</td>\n",
       "      <td>46.908810</td>\n",
       "      <td>Before</td>\n",
       "      <td>11.223912</td>\n",
       "      <td>...</td>\n",
       "      <td>0.0</td>\n",
       "      <td>0.0</td>\n",
       "      <td>0</td>\n",
       "      <td>0</td>\n",
       "      <td>7</td>\n",
       "      <td>1</td>\n",
       "      <td>0</td>\n",
       "      <td>2</td>\n",
       "      <td>124.819966</td>\n",
       "      <td>1</td>\n",
       "    </tr>\n",
       "    <tr>\n",
       "      <th>9</th>\n",
       "      <td>26</td>\n",
       "      <td>21</td>\n",
       "      <td>Treatment</td>\n",
       "      <td>Promotion</td>\n",
       "      <td>Eligible</td>\n",
       "      <td>Enrolled</td>\n",
       "      <td>1</td>\n",
       "      <td>46.908810</td>\n",
       "      <td>After</td>\n",
       "      <td>16.664686</td>\n",
       "      <td>...</td>\n",
       "      <td>0.0</td>\n",
       "      <td>0.0</td>\n",
       "      <td>0</td>\n",
       "      <td>0</td>\n",
       "      <td>7</td>\n",
       "      <td>1</td>\n",
       "      <td>0</td>\n",
       "      <td>2</td>\n",
       "      <td>124.819966</td>\n",
       "      <td>1</td>\n",
       "    </tr>\n",
       "  </tbody>\n",
       "</table>\n",
       "<p>10 rows × 22 columns</p>\n",
       "</div>"
      ],
      "text/plain": [
       "   locality_identifier  household_identifier treatment_locality  \\\n",
       "0                   26                     5          Treatment   \n",
       "1                   26                     5          Treatment   \n",
       "2                   26                    11          Treatment   \n",
       "3                   26                    11          Treatment   \n",
       "4                   26                    13          Treatment   \n",
       "5                   26                    13          Treatment   \n",
       "6                   26                    16          Treatment   \n",
       "7                   26                    16          Treatment   \n",
       "8                   26                    21          Treatment   \n",
       "9                   26                    21          Treatment   \n",
       "\n",
       "  promotion_locality  eligible  enrolled  enrolled_rp  poverty_index   round  \\\n",
       "0          Promotion  Eligible  Enrolled            1      55.950542  Before   \n",
       "1          Promotion  Eligible  Enrolled            1      55.950542   After   \n",
       "2          Promotion  Eligible  Enrolled            0      46.058731  Before   \n",
       "3          Promotion  Eligible  Enrolled            0      46.058731   After   \n",
       "4          Promotion  Eligible  Enrolled            0      54.095825   After   \n",
       "5          Promotion  Eligible  Enrolled            0      54.095825  Before   \n",
       "6          Promotion  Eligible  Enrolled            1      56.903400   After   \n",
       "7          Promotion  Eligible  Enrolled            1      56.903400  Before   \n",
       "8          Promotion  Eligible  Enrolled            1      46.908810  Before   \n",
       "9          Promotion  Eligible  Enrolled            1      46.908810   After   \n",
       "\n",
       "   health_expenditures  ...  educ_hh  educ_sp  female_hh  indigenous  hhsize  \\\n",
       "0            15.185455  ...      0.0      6.0          0           0       4   \n",
       "1            19.580902  ...      0.0      6.0          0           0       4   \n",
       "2            13.076257  ...      4.0      0.0          0           0       6   \n",
       "3             2.398854  ...      4.0      0.0          0           0       6   \n",
       "4             0.000000  ...      0.0      0.0          0           0       6   \n",
       "5            15.286353  ...      0.0      0.0          0           0       6   \n",
       "6            20.026909  ...      3.0      0.0          0           0       7   \n",
       "7            11.311761  ...      3.0      0.0          0           0       7   \n",
       "8            11.223912  ...      0.0      0.0          0           0       7   \n",
       "9            16.664686  ...      0.0      0.0          0           0       7   \n",
       "\n",
       "   dirtfloor  bathroom  land  hospital_distance  enrolled_num  \n",
       "0          1         0     1         124.819966             1  \n",
       "1          1         0     1         124.819966             1  \n",
       "2          1         0     2         124.819966             1  \n",
       "3          1         0     2         124.819966             1  \n",
       "4          1         0     4         124.819966             1  \n",
       "5          1         0     4         124.819966             1  \n",
       "6          1         0     2         124.819966             1  \n",
       "7          1         0     2         124.819966             1  \n",
       "8          1         0     2         124.819966             1  \n",
       "9          1         0     2         124.819966             1  \n",
       "\n",
       "[10 rows x 22 columns]"
      ]
     },
     "execution_count": 56,
     "metadata": {},
     "output_type": "execute_result"
    }
   ],
   "source": [
    "# 1. load the dataset\n",
    "from sklearn import tree,ensemble,datasets\n",
    "import matplotlib.pyplot as plt\n",
    "import pandas as pd\n",
    "import numpy as np\n",
    "\n",
    "df = pd.read_csv(\"HISP.csv\")\n",
    "print(\"Missing values =\", df.isnull().sum().sum())\n",
    "\n",
    "df.head(10)"
   ]
  },
  {
   "cell_type": "code",
   "execution_count": 57,
   "metadata": {},
   "outputs": [],
   "source": [
    "# filtering by round=Before\n",
    "df_cleaned=df[df[\"round\"] == \"Before\"]"
   ]
  },
  {
   "cell_type": "code",
   "execution_count": 58,
   "metadata": {},
   "outputs": [
    {
     "data": {
      "text/html": [
       "<div>\n",
       "<style scoped>\n",
       "    .dataframe tbody tr th:only-of-type {\n",
       "        vertical-align: middle;\n",
       "    }\n",
       "\n",
       "    .dataframe tbody tr th {\n",
       "        vertical-align: top;\n",
       "    }\n",
       "\n",
       "    .dataframe thead th {\n",
       "        text-align: right;\n",
       "    }\n",
       "</style>\n",
       "<table border=\"1\" class=\"dataframe\">\n",
       "  <thead>\n",
       "    <tr style=\"text-align: right;\">\n",
       "      <th></th>\n",
       "      <th>locality_identifier</th>\n",
       "      <th>household_identifier</th>\n",
       "      <th>enrolled_rp</th>\n",
       "      <th>poverty_index</th>\n",
       "      <th>health_expenditures</th>\n",
       "      <th>age_hh</th>\n",
       "      <th>age_sp</th>\n",
       "      <th>educ_hh</th>\n",
       "      <th>educ_sp</th>\n",
       "      <th>female_hh</th>\n",
       "      <th>indigenous</th>\n",
       "      <th>hhsize</th>\n",
       "      <th>dirtfloor</th>\n",
       "      <th>bathroom</th>\n",
       "      <th>land</th>\n",
       "      <th>hospital_distance</th>\n",
       "      <th>enrolled_num</th>\n",
       "    </tr>\n",
       "  </thead>\n",
       "  <tbody>\n",
       "    <tr>\n",
       "      <th>count</th>\n",
       "      <td>9913.000000</td>\n",
       "      <td>9913.000000</td>\n",
       "      <td>9913.000000</td>\n",
       "      <td>9913.000000</td>\n",
       "      <td>9913.000000</td>\n",
       "      <td>9913.000000</td>\n",
       "      <td>9913.000000</td>\n",
       "      <td>9913.000000</td>\n",
       "      <td>9913.000000</td>\n",
       "      <td>9913.000000</td>\n",
       "      <td>9913.000000</td>\n",
       "      <td>9913.000000</td>\n",
       "      <td>9913.000000</td>\n",
       "      <td>9913.000000</td>\n",
       "      <td>9913.000000</td>\n",
       "      <td>9913.000000</td>\n",
       "      <td>9913.000000</td>\n",
       "    </tr>\n",
       "    <tr>\n",
       "      <th>mean</th>\n",
       "      <td>73.932513</td>\n",
       "      <td>8039.225159</td>\n",
       "      <td>0.293251</td>\n",
       "      <td>56.790404</td>\n",
       "      <td>17.210985</td>\n",
       "      <td>46.200353</td>\n",
       "      <td>40.183900</td>\n",
       "      <td>2.833289</td>\n",
       "      <td>2.617573</td>\n",
       "      <td>0.099062</td>\n",
       "      <td>0.352870</td>\n",
       "      <td>5.178553</td>\n",
       "      <td>0.603652</td>\n",
       "      <td>0.615959</td>\n",
       "      <td>2.079492</td>\n",
       "      <td>105.319595</td>\n",
       "      <td>0.299001</td>\n",
       "    </tr>\n",
       "    <tr>\n",
       "      <th>std</th>\n",
       "      <td>55.079116</td>\n",
       "      <td>4569.574050</td>\n",
       "      <td>0.455276</td>\n",
       "      <td>10.685997</td>\n",
       "      <td>5.588098</td>\n",
       "      <td>15.285329</td>\n",
       "      <td>12.794188</td>\n",
       "      <td>2.754699</td>\n",
       "      <td>2.543095</td>\n",
       "      <td>0.298760</td>\n",
       "      <td>0.477887</td>\n",
       "      <td>2.195223</td>\n",
       "      <td>0.489163</td>\n",
       "      <td>0.486392</td>\n",
       "      <td>3.133165</td>\n",
       "      <td>42.063589</td>\n",
       "      <td>0.457844</td>\n",
       "    </tr>\n",
       "    <tr>\n",
       "      <th>min</th>\n",
       "      <td>1.000000</td>\n",
       "      <td>2.000000</td>\n",
       "      <td>0.000000</td>\n",
       "      <td>20.479134</td>\n",
       "      <td>6.252154</td>\n",
       "      <td>14.000000</td>\n",
       "      <td>14.000000</td>\n",
       "      <td>0.000000</td>\n",
       "      <td>0.000000</td>\n",
       "      <td>0.000000</td>\n",
       "      <td>0.000000</td>\n",
       "      <td>1.000000</td>\n",
       "      <td>0.000000</td>\n",
       "      <td>0.000000</td>\n",
       "      <td>0.000000</td>\n",
       "      <td>9.465392</td>\n",
       "      <td>0.000000</td>\n",
       "    </tr>\n",
       "    <tr>\n",
       "      <th>25%</th>\n",
       "      <td>30.000000</td>\n",
       "      <td>3990.000000</td>\n",
       "      <td>0.000000</td>\n",
       "      <td>49.652241</td>\n",
       "      <td>13.021940</td>\n",
       "      <td>34.000000</td>\n",
       "      <td>30.000000</td>\n",
       "      <td>0.000000</td>\n",
       "      <td>0.000000</td>\n",
       "      <td>0.000000</td>\n",
       "      <td>0.000000</td>\n",
       "      <td>4.000000</td>\n",
       "      <td>0.000000</td>\n",
       "      <td>0.000000</td>\n",
       "      <td>0.000000</td>\n",
       "      <td>72.804218</td>\n",
       "      <td>0.000000</td>\n",
       "    </tr>\n",
       "    <tr>\n",
       "      <th>50%</th>\n",
       "      <td>59.000000</td>\n",
       "      <td>8040.000000</td>\n",
       "      <td>0.000000</td>\n",
       "      <td>56.414219</td>\n",
       "      <td>16.839489</td>\n",
       "      <td>45.000000</td>\n",
       "      <td>41.000000</td>\n",
       "      <td>2.000000</td>\n",
       "      <td>2.000000</td>\n",
       "      <td>0.000000</td>\n",
       "      <td>0.000000</td>\n",
       "      <td>5.000000</td>\n",
       "      <td>1.000000</td>\n",
       "      <td>1.000000</td>\n",
       "      <td>1.000000</td>\n",
       "      <td>113.556497</td>\n",
       "      <td>0.000000</td>\n",
       "    </tr>\n",
       "    <tr>\n",
       "      <th>75%</th>\n",
       "      <td>112.000000</td>\n",
       "      <td>12033.000000</td>\n",
       "      <td>1.000000</td>\n",
       "      <td>62.905720</td>\n",
       "      <td>21.053459</td>\n",
       "      <td>57.000000</td>\n",
       "      <td>47.000000</td>\n",
       "      <td>4.000000</td>\n",
       "      <td>4.000000</td>\n",
       "      <td>0.000000</td>\n",
       "      <td>1.000000</td>\n",
       "      <td>7.000000</td>\n",
       "      <td>1.000000</td>\n",
       "      <td>1.000000</td>\n",
       "      <td>3.000000</td>\n",
       "      <td>141.097735</td>\n",
       "      <td>1.000000</td>\n",
       "    </tr>\n",
       "    <tr>\n",
       "      <th>max</th>\n",
       "      <td>200.000000</td>\n",
       "      <td>15778.000000</td>\n",
       "      <td>1.000000</td>\n",
       "      <td>100.000000</td>\n",
       "      <td>35.626358</td>\n",
       "      <td>88.000000</td>\n",
       "      <td>87.000000</td>\n",
       "      <td>16.000000</td>\n",
       "      <td>17.000000</td>\n",
       "      <td>1.000000</td>\n",
       "      <td>1.000000</td>\n",
       "      <td>13.000000</td>\n",
       "      <td>1.000000</td>\n",
       "      <td>1.000000</td>\n",
       "      <td>23.000000</td>\n",
       "      <td>170.457647</td>\n",
       "      <td>1.000000</td>\n",
       "    </tr>\n",
       "  </tbody>\n",
       "</table>\n",
       "</div>"
      ],
      "text/plain": [
       "       locality_identifier  household_identifier  enrolled_rp  poverty_index  \\\n",
       "count          9913.000000           9913.000000  9913.000000    9913.000000   \n",
       "mean             73.932513           8039.225159     0.293251      56.790404   \n",
       "std              55.079116           4569.574050     0.455276      10.685997   \n",
       "min               1.000000              2.000000     0.000000      20.479134   \n",
       "25%              30.000000           3990.000000     0.000000      49.652241   \n",
       "50%              59.000000           8040.000000     0.000000      56.414219   \n",
       "75%             112.000000          12033.000000     1.000000      62.905720   \n",
       "max             200.000000          15778.000000     1.000000     100.000000   \n",
       "\n",
       "       health_expenditures       age_hh       age_sp      educ_hh  \\\n",
       "count          9913.000000  9913.000000  9913.000000  9913.000000   \n",
       "mean             17.210985    46.200353    40.183900     2.833289   \n",
       "std               5.588098    15.285329    12.794188     2.754699   \n",
       "min               6.252154    14.000000    14.000000     0.000000   \n",
       "25%              13.021940    34.000000    30.000000     0.000000   \n",
       "50%              16.839489    45.000000    41.000000     2.000000   \n",
       "75%              21.053459    57.000000    47.000000     4.000000   \n",
       "max              35.626358    88.000000    87.000000    16.000000   \n",
       "\n",
       "           educ_sp    female_hh   indigenous       hhsize    dirtfloor  \\\n",
       "count  9913.000000  9913.000000  9913.000000  9913.000000  9913.000000   \n",
       "mean      2.617573     0.099062     0.352870     5.178553     0.603652   \n",
       "std       2.543095     0.298760     0.477887     2.195223     0.489163   \n",
       "min       0.000000     0.000000     0.000000     1.000000     0.000000   \n",
       "25%       0.000000     0.000000     0.000000     4.000000     0.000000   \n",
       "50%       2.000000     0.000000     0.000000     5.000000     1.000000   \n",
       "75%       4.000000     0.000000     1.000000     7.000000     1.000000   \n",
       "max      17.000000     1.000000     1.000000    13.000000     1.000000   \n",
       "\n",
       "          bathroom         land  hospital_distance  enrolled_num  \n",
       "count  9913.000000  9913.000000        9913.000000   9913.000000  \n",
       "mean      0.615959     2.079492         105.319595      0.299001  \n",
       "std       0.486392     3.133165          42.063589      0.457844  \n",
       "min       0.000000     0.000000           9.465392      0.000000  \n",
       "25%       0.000000     0.000000          72.804218      0.000000  \n",
       "50%       1.000000     1.000000         113.556497      0.000000  \n",
       "75%       1.000000     3.000000         141.097735      1.000000  \n",
       "max       1.000000    23.000000         170.457647      1.000000  "
      ]
     },
     "execution_count": 58,
     "metadata": {},
     "output_type": "execute_result"
    }
   ],
   "source": [
    "# description statistic\n",
    "df_cleaned.describe()"
   ]
  },
  {
   "cell_type": "markdown",
   "metadata": {},
   "source": [
    "We can observe that the varibales span many orders of magnitude. The average on health expenditures before the treatment is around 17.2$ annually"
   ]
  },
  {
   "cell_type": "markdown",
   "metadata": {},
   "source": [
    "## 2. Data splitting into testing and training"
   ]
  },
  {
   "cell_type": "markdown",
   "metadata": {},
   "source": [
    "Split the Dataframe into a training and test sets with a test_size of 20%"
   ]
  },
  {
   "cell_type": "code",
   "execution_count": 59,
   "metadata": {},
   "outputs": [],
   "source": [
    "from sklearn.model_selection import train_test_split\n",
    "\n",
    "Train_set, Test_set= df_cleaned.sample(frac =.8), df_cleaned.sample(frac =.2)\n",
    "\n",
    "features=[\"poverty_index\", \"age_hh\", \"age_sp\", \"educ_hh\", \"educ_sp\", \"female_hh\", \"indigenous\",\"hhsize\", \"dirtfloor\", \"bathroom\", \"land\", \"hospital_distance\"]\n",
    "label=[\"health_expenditures\"]"
   ]
  },
  {
   "cell_type": "code",
   "execution_count": 60,
   "metadata": {},
   "outputs": [],
   "source": [
    "Train_set_features=Train_set.loc[:,features]\n",
    "Test_set_features=Test_set.loc[:,features]\n",
    "Train_set_label=Train_set.loc[:,label]\n",
    "Test_set_label=Test_set.loc[:,label]"
   ]
  },
  {
   "cell_type": "markdown",
   "metadata": {},
   "source": [
    "## 3. A first linear model"
   ]
  },
  {
   "cell_type": "markdown",
   "metadata": {},
   "source": [
    "#### a. Using the training set, train a simple linear model"
   ]
  },
  {
   "cell_type": "code",
   "execution_count": 61,
   "metadata": {},
   "outputs": [],
   "source": [
    "from sklearn.preprocessing import StandardScaler \n",
    "from sklearn.compose import ColumnTransformer"
   ]
  },
  {
   "cell_type": "code",
   "execution_count": 62,
   "metadata": {},
   "outputs": [],
   "source": [
    "cat_attribs=[\"female_hh\", \"indigenous\", \"dirtfloor\", \"bathroom\"]\n",
    "num_attribs=[\"poverty_index\", \"age_hh\", \"age_sp\", \"educ_hh\", \"educ_sp\",\"hhsize\", \"land\", \"hospital_distance\"]\n",
    "\n",
    "pipeline=ColumnTransformer([\n",
    "    (\"other\", \"passthrough\", cat_attribs),\n",
    "    (\"Scaler\", StandardScaler(), num_attribs)])"
   ]
  },
  {
   "cell_type": "code",
   "execution_count": 63,
   "metadata": {},
   "outputs": [],
   "source": [
    "Train_set_features_transformed = pipeline.fit_transform(Train_set_features)\n",
    "Test_set_features_transformed = pipeline.fit_transform(Test_set_features)"
   ]
  },
  {
   "cell_type": "code",
   "execution_count": 64,
   "metadata": {},
   "outputs": [
    {
     "data": {
      "text/plain": [
       "LinearRegression()"
      ]
     },
     "execution_count": 64,
     "metadata": {},
     "output_type": "execute_result"
    }
   ],
   "source": [
    "from sklearn.linear_model import LinearRegression\n",
    "\n",
    "Lin_reg = LinearRegression()\n",
    "Lin_reg.fit(Train_set_features_transformed, Train_set_label)"
   ]
  },
  {
   "cell_type": "markdown",
   "metadata": {},
   "source": [
    "#### b. Write a function that computes the Root Mean Squared Error (RMSE)"
   ]
  },
  {
   "cell_type": "code",
   "execution_count": 65,
   "metadata": {},
   "outputs": [
    {
     "data": {
      "text/plain": [
       "1.0696596229381645"
      ]
     },
     "execution_count": 65,
     "metadata": {},
     "output_type": "execute_result"
    }
   ],
   "source": [
    "# Affichez la performance RMSE du modèle mesurée sur le jeu d'entrainement en utilisant la métrique mean_squared_error et la méthode predict\n",
    "\n",
    "predict=Lin_reg.predict(Train_set_features_transformed)\n",
    "from sklearn.metrics import mean_squared_error\n",
    "mean_squared_error(Train_set_label, predict, squared=False)"
   ]
  },
  {
   "cell_type": "markdown",
   "metadata": {},
   "source": [
    "We can see that the error RMSE on training data is too well, that is implies that overfitting happened during training.\n",
    "\n",
    "How to evaluate a model without a test set? On solution to the problem is using validation sets. On such technique is K-fold validation, where we train the model several times on different training sets and evaluate it on validation sets such that evey data point is used as validation at least one time and as training several times."
   ]
  },
  {
   "cell_type": "code",
   "execution_count": 66,
   "metadata": {},
   "outputs": [
    {
     "data": {
      "text/plain": [
       "array([[ 1.64204506, -2.73405158, -2.56311257,  0.3915069 ,  0.55696294,\n",
       "         1.03572351,  0.16432831,  0.41976783, -0.11752738, -4.42656803,\n",
       "         0.5948037 ,  0.01901416]])"
      ]
     },
     "execution_count": 66,
     "metadata": {},
     "output_type": "execute_result"
    }
   ],
   "source": [
    "Lin_reg.coef_"
   ]
  },
  {
   "cell_type": "markdown",
   "metadata": {},
   "source": [
    "#### c. Print the coefficients and intercept of the model"
   ]
  },
  {
   "cell_type": "code",
   "execution_count": 67,
   "metadata": {},
   "outputs": [
    {
     "name": "stdout",
     "output_type": "stream",
     "text": [
      "poverty_index        = 1.6420450605739787\n",
      "age_hh               = -2.734051583124923\n",
      "age_sp               = -2.563112566400484\n",
      "educ_hh              = 0.3915068975716781\n",
      "educ_sp              = 0.5569629427126391\n",
      "female_hh            = 1.0357235142709866\n",
      "indigenous           = 0.16432831293601732\n",
      "hhsize               = 0.419767827987165\n",
      "dirtfloor            = -0.11752738424922746\n",
      "bathroom             = -4.426568030746208\n",
      "land                 = 0.5948037006572606\n",
      "hospital_distance    = 0.019014158552848583\n",
      "intercept= 19.324618622802824\n"
     ]
    }
   ],
   "source": [
    "for var, coef in zip(features, Lin_reg.coef_.T):\n",
    "    print(f\"{var:<20} = {coef[0]}\")\n",
    "\n",
    "print(f\"intercept= {Lin_reg.intercept_[0]}\")"
   ]
  },
  {
   "cell_type": "markdown",
   "metadata": {},
   "source": [
    "#### d. Analyse the importance of the variables\n",
    "\n",
    "The most important variable is ```bathroom``` and we could set aside the variables `hostpital_distance` due to this variable have significantly less impact to our dependent variable.\n",
    "\n",
    "It's possible to set the coefficients of the less important variables to zero with L1 regulatization (also known as Lasso), making it especially usefull for feature selection."
   ]
  },
  {
   "cell_type": "markdown",
   "metadata": {},
   "source": [
    "## 4. A second model\n",
    "\n",
    "#### a. Using the training set with Decision Tree"
   ]
  },
  {
   "cell_type": "code",
   "execution_count": 68,
   "metadata": {},
   "outputs": [],
   "source": [
    "from sklearn.tree import DecisionTreeRegressor\n",
    "from sklearn import tree\n",
    "\n",
    "DTR = DecisionTreeRegressor()"
   ]
  },
  {
   "cell_type": "code",
   "execution_count": 69,
   "metadata": {},
   "outputs": [
    {
     "data": {
      "text/plain": [
       "DecisionTreeRegressor()"
      ]
     },
     "execution_count": 69,
     "metadata": {},
     "output_type": "execute_result"
    }
   ],
   "source": [
    "DTR.fit(Train_set_features_transformed,Train_set_label)"
   ]
  },
  {
   "cell_type": "code",
   "execution_count": 70,
   "metadata": {},
   "outputs": [
    {
     "name": "stdout",
     "output_type": "stream",
     "text": [
      "RMSE:  0.0\n"
     ]
    }
   ],
   "source": [
    "predic = DTR.predict(Train_set_features_transformed)\n",
    "MSE = mean_squared_error(predic,Train_set_label)\n",
    "RMSE = MSE**(1/2)\n",
    "print(\"RMSE: \",RMSE)"
   ]
  },
  {
   "cell_type": "code",
   "execution_count": 71,
   "metadata": {},
   "outputs": [],
   "source": [
    "param_grid=[{'max_depth':[2, 5, 8], 'min_samples_split':[2, 3, 4, 5, 6, 7, 8, 9, 10]}]"
   ]
  },
  {
   "cell_type": "code",
   "execution_count": 72,
   "metadata": {},
   "outputs": [
    {
     "data": {
      "text/plain": [
       "GridSearchCV(cv=3, estimator=DecisionTreeRegressor(),\n",
       "             param_grid=[{'max_depth': [2, 5, 8],\n",
       "                          'min_samples_split': [2, 3, 4, 5, 6, 7, 8, 9, 10]}],\n",
       "             return_train_score=True, scoring='neg_mean_squared_error')"
      ]
     },
     "execution_count": 72,
     "metadata": {},
     "output_type": "execute_result"
    }
   ],
   "source": [
    "# Create a GridSearch object with cross-validation\n",
    "\n",
    "from sklearn.model_selection import GridSearchCV\n",
    "\n",
    "grid_search=GridSearchCV(DTR,param_grid,cv=3,scoring='neg_mean_squared_error',return_train_score=True)\n",
    "grid_search.fit(Train_set_features_transformed,Train_set_label)"
   ]
  },
  {
   "cell_type": "markdown",
   "metadata": {},
   "source": [
    "#### b. Plot the training and validation scores"
   ]
  },
  {
   "cell_type": "code",
   "execution_count": 73,
   "metadata": {},
   "outputs": [
    {
     "data": {
      "text/plain": [
       "<matplotlib.legend.Legend at 0x1bd8e753070>"
      ]
     },
     "execution_count": 73,
     "metadata": {},
     "output_type": "execute_result"
    },
    {
     "data": {
      "image/png": "[encoded data removed]",
      "text/plain": [
       "<Figure size 1296x864 with 1 Axes>"
      ]
     },
     "metadata": {
      "needs_background": "light"
     },
     "output_type": "display_data"
    }
   ],
   "source": [
    "# Comparaison de la MSE d'entrainement et de validation pour chaque modèle\n",
    "ind = np.arange(len(grid_search.cv_results_['mean_train_score'])) \n",
    "width = 0.35\n",
    "fig, ax = plt.subplots(figsize=(18,12))\n",
    "rects1 = ax.bar(ind - width/2, -grid_search.cv_results_['mean_train_score'], width,\n",
    "                color='SkyBlue', label='Train')\n",
    "rects2 = ax.bar(ind + width/2, -grid_search.cv_results_['mean_test_score'], width, \n",
    "                color='IndianRed', label='Test')\n",
    "\n",
    "ax.set_ylabel('Loss')\n",
    "ax.set_title('Loss per scenario')\n",
    "ax.set_xticks(ind)\n",
    "ax.legend()"
   ]
  },
  {
   "cell_type": "markdown",
   "metadata": {},
   "source": [
    "#### c. Print the values of the hyperparameters related to the best model (based on the validation score)"
   ]
  },
  {
   "cell_type": "code",
   "execution_count": 74,
   "metadata": {},
   "outputs": [
    {
     "data": {
      "text/plain": [
       "{'max_depth': 8, 'min_samples_split': 6}"
      ]
     },
     "execution_count": 74,
     "metadata": {},
     "output_type": "execute_result"
    }
   ],
   "source": [
    "grid_search.cv_results_['params'][grid_search.best_index_]"
   ]
  },
  {
   "cell_type": "code",
   "execution_count": 75,
   "metadata": {},
   "outputs": [
    {
     "data": {
      "text/plain": [
       "{'bathroom': 0.6877882136373384,\n",
       " 'educ_sp': 0.09871323490406989,\n",
       " 'age_sp': 0.09187315770638599,\n",
       " 'indigenous': 0.052367718369909465,\n",
       " 'age_hh': 0.04910121081645513,\n",
       " 'female_hh': 0.010792910226245367,\n",
       " 'land': 0.004669135621240014,\n",
       " 'hhsize': 0.003802214265383614,\n",
       " 'dirtfloor': 0.0004981226111525752,\n",
       " 'poverty_index': 0.0002728857306186549,\n",
       " 'hospital_distance': 7.875373897776374e-05,\n",
       " 'educ_hh': 4.244237222318724e-05}"
      ]
     },
     "execution_count": 75,
     "metadata": {},
     "output_type": "execute_result"
    }
   ],
   "source": [
    "Best_Model_DTR=grid_search.best_estimator_\n",
    "Feat_imp=Best_Model_DTR.feature_importances_\n",
    "Feat_imp=dict(zip(Train_set_features.columns, Feat_imp))\n",
    "dict(sorted(Feat_imp.items(), key=lambda item: item[1],reverse=True))"
   ]
  },
  {
   "cell_type": "markdown",
   "metadata": {},
   "source": [
    "#### d. Analyse the importance of the variables."
   ]
  },
  {
   "cell_type": "markdown",
   "metadata": {},
   "source": [
    "Based on the result above, it shows that important variable is `bathroom` (same result as the linear regressor) and we could set aside variable like `hospital_distantce`, and `educ_hh`  without significant impact on the quality of the predictor"
   ]
  },
  {
   "cell_type": "markdown",
   "metadata": {},
   "source": [
    "## 5. Using the first 100 observations of the test set\n",
    "\n",
    "#### plot the real values as well as the predicted values of both models."
   ]
  },
  {
   "cell_type": "code",
   "execution_count": 76,
   "metadata": {},
   "outputs": [
    {
     "data": {
      "text/plain": [
       "<matplotlib.legend.Legend at 0x1bd8f476160>"
      ]
     },
     "execution_count": 76,
     "metadata": {},
     "output_type": "execute_result"
    },
    {
     "data": {
      "image/png": "[encoded data removed]",
      "text/plain": [
       "<Figure size 1296x720 with 1 Axes>"
      ]
     },
     "metadata": {
      "needs_background": "light"
     },
     "output_type": "display_data"
    }
   ],
   "source": [
    "xs = np.arange(100) #using the 100 observations of the test set\n",
    "y1 = Lin_reg.predict(Test_set_features_transformed[:100])\n",
    "y2 = DTR.predict(Test_set_features_transformed[:100])\n",
    "\n",
    "fig, ax = plt.subplots(figsize=(18, 10))\n",
    "ax.scatter(xs, Test_set_label[:100], label='data')\n",
    "ax.plot(xs, y1, label='Linear Regression', c=\"g\")\n",
    "ax.plot(xs, y2, label='Decision Tree', c=\"r\")\n",
    "\n",
    "# Add some text for labels, title and custom x-axis tick labels, etc.\n",
    "ax.set_title('Comparison the models')\n",
    "ax.set_xlabel('observation')\n",
    "ax.set_ylabel('health_expenditures')\n",
    "ax.legend()"
   ]
  },
  {
   "cell_type": "code",
   "execution_count": 77,
   "metadata": {},
   "outputs": [
    {
     "name": "stdout",
     "output_type": "stream",
     "text": [
      "RMSE of linear regression = 1.109591987729479\n",
      "RMSE of decision tree = 7.914855796031515\n"
     ]
    }
   ],
   "source": [
    "def rmse(model, X, y):\n",
    "    \n",
    "    y_hat = model.predict(X)\n",
    "    \n",
    "    return np.sqrt(np.average((y_hat - y.values) ** 2))\n",
    "\n",
    "# computing the RMSE of the linear model on the whole dataset\n",
    "err = rmse(Lin_reg, Test_set_features_transformed, Test_set_label)\n",
    "print(\"RMSE of linear regression =\", err)\n",
    "\n",
    "# computing the RMSE of the decision tree on the whole dataset\n",
    "err = rmse(DTR, Test_set_features_transformed, Test_set_label)\n",
    "print(\"RMSE of decision tree =\", err)"
   ]
  },
  {
   "cell_type": "markdown",
   "metadata": {},
   "source": [
    "In conclusion, the better model is the Linear Regression. Having a better overall score while being much quicker at runtime. \n",
    "The RMSE on linear regression is fine (1.073) since it's 1 on the test set. Meanwhile, the decision tree is overfitting since it goes from 0 on train to 7 on test and training, well the cross validation didn't help much the decision tree regressor."
   ]
  }
 ],
 "metadata": {
  "kernelspec": {
   "display_name": "Python 3",
   "language": "python",
   "name": "python3"
  },
  "language_info": {
   "codemirror_mode": {
    "name": "ipython",
    "version": 3
   },
   "file_extension": ".py",
   "mimetype": "text/x-python",
   "name": "python",
   "nbconvert_exporter": "python",
   "pygments_lexer": "ipython3",
   "version": "3.8.3"
  }
 },
 "nbformat": 4,
 "nbformat_minor": 4
}
